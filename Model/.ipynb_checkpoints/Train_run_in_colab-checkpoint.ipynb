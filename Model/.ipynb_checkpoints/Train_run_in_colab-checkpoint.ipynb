{
 "cells": [
  {
   "cell_type": "markdown",
   "metadata": {
    "colab_type": "text",
    "id": "4ExqwmBECVgX"
   },
   "source": [
    "##  Computer Vision\n",
    "# Places Recognizer Project\n",
    "\n",
    "Mahya Mahdian - 94471039 \n",
    "\n",
    "Mohammad Hassan Sattarian - 94471035\n",
    "\n",
    "\n",
    "---\n",
    "\n"
   ]
  },
  {
   "cell_type": "markdown",
   "metadata": {
    "colab_type": "toc",
    "id": "Lx0Py03lhtFc"
   },
   "source": [
    ">>[Computer Vision](#scrollTo=4ExqwmBECVgX)\n",
    "\n",
    ">[Project : Places Recognition](#scrollTo=4ExqwmBECVgX)\n",
    "\n",
    ">>[Initializing Colab Environment](#scrollTo=fDQ-HSD3mdfE)\n",
    "\n",
    ">>[training](#scrollTo=AynFlbiZVY9d)\n",
    "\n"
   ]
  },
  {
   "cell_type": "markdown",
   "metadata": {
    "colab_type": "text",
    "id": "fDQ-HSD3mdfE"
   },
   "source": [
    "## Initializing Colab Environment"
   ]
  },
  {
   "cell_type": "markdown",
   "metadata": {
    "colab_type": "text",
    "id": "BNUSJdJAlIKJ"
   },
   "source": [
    "Unfortunately files are not kept in colabs environment more than 12 hours and this steps are neccesary each time.\n",
    "\n",
    "##### Importing and using required authentication functions for Transfering data from **Drive** to **Colab**:"
   ]
  },
  {
   "cell_type": "code",
   "execution_count": 0,
   "metadata": {
    "colab": {
     "autoexec": {
      "startup": false,
      "wait_interval": 0
     }
    },
    "colab_type": "code",
    "id": "RKhCeEy7rL_D"
   },
   "outputs": [],
   "source": [
    "!pip install -U -q PyDrive # PyDrive is an easy-to-use wrapper for googleOAuth\n",
    "import os\n",
    "from pydrive.auth import GoogleAuth\n",
    "from pydrive.drive import GoogleDrive\n",
    "from google.colab import auth\n",
    "from oauth2client.client import GoogleCredentials\n",
    "\n",
    "# Authenticate and create the PyDrive client. remmmber that \n",
    "auth.authenticate_user()\n",
    "gauth = GoogleAuth()\n",
    "gauth.credentials = GoogleCredentials.get_application_default()\n",
    "drive = GoogleDrive(gauth)"
   ]
  },
  {
   "cell_type": "markdown",
   "metadata": {
    "colab_type": "text",
    "id": "wTNQpdOQkXTF"
   },
   "source": [
    "##### Listing files available in Drive directory ***[CV project](https://drive.google.com/drive/folders/1UO9LYakqN6GEvXGRZYNkwPQMAqMARw55?usp=sharing)***\n",
    "\n",
    "if mentioned directory is not available replace folder-id in following cell with a valid folder-id containing required files (Base model, Weights, Train Script, ...)."
   ]
  },
  {
   "cell_type": "code",
   "execution_count": 3,
   "metadata": {
    "colab": {
     "autoexec": {
      "startup": false,
      "wait_interval": 0
     },
     "base_uri": "https://localhost:8080/",
     "height": 197
    },
    "colab_type": "code",
    "executionInfo": {
     "elapsed": 2690,
     "status": "ok",
     "timestamp": 1528918846668,
     "user": {
      "displayName": "m.hassan sattarian",
      "photoUrl": "//lh4.googleusercontent.com/-g7CXt89YadI/AAAAAAAAAAI/AAAAAAAACN8/B_KMRZkKYjA/s50-c-k-no/photo.jpg",
      "userId": "114996396191740313928"
     },
     "user_tz": -270
    },
    "id": "jteLOS_4rSCi",
    "outputId": "e3588bf4-4f9c-4f94-b15c-edec5fcb2553"
   },
   "outputs": [
    {
     "name": "stdout",
     "output_type": "stream",
     "text": [
      "title: 4.ipynb, id: 1AHZpmT8wUFFcWeh9dM1K1XL5FUaPuB9W\n",
      "title: dataset-fixed.zip, id: 1jdpVeH4nQ-_aP_6GMB6whoQDrDqVifYK\n",
      "title: dataset2.zip, id: 1FiIwrRaYA7ihAUWAABxMjWhL4maRuad3\n",
      "title: 3_third_run.ipynb, id: 1yczEywMerXZZeJEvr2l-Jep7sokrayp2\n",
      "title: places_utils.py, id: 1hzTYJHWq9Hlnl1LeBB5fzheJUhNgeq-G\n",
      "title: DriveFUSE.ipynb, id: 1ev4_U1bI3soHd4Cql4cKvTL9GIQRwWSo\n",
      "title: dataset.zip, id: 1BzMIOGprUSvjJHO7h6erj8mGmURgqTle\n",
      "title: vgg16-places365_weights_tf_dim_ordering_tf_kernels.h5, id: 1fqikchoa4I0XNK1MN8s7SuSFquM2VnFu\n",
      "title: vgg16_places_365.py, id: 1Hlpo9W8EERT1afq1fEoEKnR-hxY58hbd\n",
      "title: vgg16-places365_weights_tf_dim_ordering_tf_kernels_notop.h5, id: 1pHKIug9GcZPOHG_3j6IPzXz3hjNoikQp\n"
     ]
    }
   ],
   "source": [
    "file_list = drive.ListFile( # list files in a drive folder given it's Id\n",
    "    {'q': \"'1GBXbaaNCrTctlo9YU8ODfmyHCgB-mQXa' in parents\"}).GetList()\n",
    "\n",
    "for f in file_list:\n",
    "  # Create & download by id.\n",
    "  print('title: %s, id: %s' % (f['title'], f['id']))\n",
    "  "
   ]
  },
  {
   "cell_type": "markdown",
   "metadata": {
    "colab_type": "text",
    "id": "1Je7bHH8mBd9"
   },
   "source": [
    "##### Yet our colab environment is empty!\n",
    "\n",
    "looking for a proof? :"
   ]
  },
  {
   "cell_type": "code",
   "execution_count": 1,
   "metadata": {
    "colab": {
     "autoexec": {
      "startup": false,
      "wait_interval": 0
     },
     "base_uri": "https://localhost:8080/",
     "height": 35
    },
    "colab_type": "code",
    "executionInfo": {
     "elapsed": 1762,
     "status": "ok",
     "timestamp": 1528918849048,
     "user": {
      "displayName": "m.hassan sattarian",
      "photoUrl": "//lh4.googleusercontent.com/-g7CXt89YadI/AAAAAAAAAAI/AAAAAAAACN8/B_KMRZkKYjA/s50-c-k-no/photo.jpg",
      "userId": "114996396191740313928"
     },
     "user_tz": -270
    },
    "id": "VBRrbUsjr_x3",
    "outputId": "51b4293b-a5a8-4cd3-a607-4c2226cc87eb"
   },
   "outputs": [
    {
     "name": "stderr",
     "output_type": "stream",
     "text": [
      "'ls' is not recognized as an internal or external command,\n",
      "operable program or batch file.\n"
     ]
    }
   ],
   "source": [
    "!ls # terminal commands are accessible using ! operator!"
   ]
  },
  {
   "cell_type": "markdown",
   "metadata": {
    "colab_type": "text",
    "id": "w8APRGw1mILf"
   },
   "source": [
    "##### *Transferring* files from Drive to Colab:"
   ]
  },
  {
   "cell_type": "code",
   "execution_count": 0,
   "metadata": {
    "colab": {
     "autoexec": {
      "startup": false,
      "wait_interval": 0
     }
    },
    "colab_type": "code",
    "id": "t0dbYjrSt7oi"
   },
   "outputs": [],
   "source": [
    "for f in file_list:\n",
    "  fname = f['title']\n",
    "  f_ = drive.CreateFile({'id': f['id']})\n",
    "  f_.GetContentFile(fname)"
   ]
  },
  {
   "cell_type": "markdown",
   "metadata": {
    "colab_type": "text",
    "id": "v1KcYGq8mNAf"
   },
   "source": [
    "##### now files are in colab environment:"
   ]
  },
  {
   "cell_type": "code",
   "execution_count": 8,
   "metadata": {
    "colab": {
     "autoexec": {
      "startup": false,
      "wait_interval": 0
     },
     "base_uri": "https://localhost:8080/",
     "height": 143
    },
    "colab_type": "code",
    "executionInfo": {
     "elapsed": 1807,
     "status": "ok",
     "timestamp": 1528918940778,
     "user": {
      "displayName": "m.hassan sattarian",
      "photoUrl": "//lh4.googleusercontent.com/-g7CXt89YadI/AAAAAAAAAAI/AAAAAAAACN8/B_KMRZkKYjA/s50-c-k-no/photo.jpg",
      "userId": "114996396191740313928"
     },
     "user_tz": -270
    },
    "id": "FXqYpwRqxfAW",
    "outputId": "4e431aab-4f69-4503-d5d7-7ba8fe51e054"
   },
   "outputs": [
    {
     "name": "stdout",
     "output_type": "stream",
     "text": [
      "3_third_run.ipynb  places_utils.py\r\n",
      "4.ipynb\t\t   Test\r\n",
      "datalab\t\t   Train\r\n",
      "dataset2.zip\t   vgg16_places_365.py\r\n",
      "dataset-fixed.zip  vgg16-places365_weights_tf_dim_ordering_tf_kernels.h5\r\n",
      "dataset.zip\t   vgg16-places365_weights_tf_dim_ordering_tf_kernels_notop.h5\r\n",
      "DriveFUSE.ipynb\r\n"
     ]
    }
   ],
   "source": [
    "!ls"
   ]
  },
  {
   "cell_type": "markdown",
   "metadata": {
    "colab_type": "text",
    "id": "CyUm7rWOmREs"
   },
   "source": [
    "##### Unzip images file:"
   ]
  },
  {
   "cell_type": "code",
   "execution_count": 0,
   "metadata": {
    "colab": {
     "autoexec": {
      "startup": false,
      "wait_interval": 0
     }
    },
    "colab_type": "code",
    "id": "4tDA_Y3M6Jod"
   },
   "outputs": [],
   "source": [
    "!unzip -aq dataset.zip"
   ]
  },
  {
   "cell_type": "markdown",
   "metadata": {
    "colab_type": "text",
    "id": "AynFlbiZVY9d"
   },
   "source": [
    "## training"
   ]
  },
  {
   "cell_type": "markdown",
   "metadata": {
    "colab_type": "text",
    "id": "zGkN2Ew1mzcJ"
   },
   "source": [
    "##### Base Model used in this Fine tuning Network is a [VGG16 network pretrained Places365-Standard](https://github.com/GKalliatakis/Keras-VGG16-places365).\n",
    "this network is implemented in **vgg16_places_365** file and imported in the code."
   ]
  },
  {
   "cell_type": "markdown",
   "metadata": {
    "colab_type": "text",
    "id": "nOErqxCtoLlE"
   },
   "source": [
    "##### Required libraries and base model (vgg16-places) without fully-connected layers imported. 5 last layers of base model would be *unfrozen*.\n",
    "\n",
    "##### Then own model based on VGG616:Places365 model with additional fully-connected layers containing 256 and 6 nodes, with, respectively Relu and Softmax as activation functions for detecting nonlinearities and coding result in 6 classes is defined:"
   ]
  },
  {
   "cell_type": "code",
   "execution_count": 9,
   "metadata": {
    "colab": {
     "autoexec": {
      "startup": false,
      "wait_interval": 0
     },
     "base_uri": "https://localhost:8080/",
     "height": 35
    },
    "colab_type": "code",
    "executionInfo": {
     "elapsed": 10298,
     "status": "ok",
     "timestamp": 1528918963897,
     "user": {
      "displayName": "m.hassan sattarian",
      "photoUrl": "//lh4.googleusercontent.com/-g7CXt89YadI/AAAAAAAAAAI/AAAAAAAACN8/B_KMRZkKYjA/s50-c-k-no/photo.jpg",
      "userId": "114996396191740313928"
     },
     "user_tz": -270
    },
    "id": "8RkcGBFapp4A",
    "outputId": "e5b11805-f689-4951-8a4a-eceffc0c5ab6"
   },
   "outputs": [
    {
     "name": "stderr",
     "output_type": "stream",
     "text": [
      "Using TensorFlow backend.\n"
     ]
    }
   ],
   "source": [
    "from vgg16_places_365 import VGG16_Places365\n",
    "from keras import layers, models, optimizers\n",
    "\n",
    "base_model = VGG16_Places365(include_top=False, weights='places', input_shape=(108, 192, 3))\n",
    "\n",
    "# making 5 last layers *Unfreez*\n",
    "for layer in base_model.layers[:12]:\n",
    "  layer.trainable = True\n",
    "\n",
    "for layer in base_model.layers[12:]:\n",
    "  layer.trainable = False\n",
    "\n",
    "model = models.Sequential()\n",
    "model.add(base_model)\n",
    "model.add(layers.Flatten())\n",
    "model.add(layers.Dense(256, activation='relu'))\n",
    "model.add(layers.Dense(6, activation='softmax'))"
   ]
  },
  {
   "cell_type": "markdown",
   "metadata": {
    "colab_type": "text",
    "id": "uPEXQ4-dpvTl"
   },
   "source": [
    "##### base model and model summeries are printed. mainly to check trainable data numbers:"
   ]
  },
  {
   "cell_type": "code",
   "execution_count": 10,
   "metadata": {
    "colab": {
     "autoexec": {
      "startup": false,
      "wait_interval": 0
     },
     "base_uri": "https://localhost:8080/",
     "height": 1097
    },
    "colab_type": "code",
    "executionInfo": {
     "elapsed": 1434,
     "status": "ok",
     "timestamp": 1528918976502,
     "user": {
      "displayName": "m.hassan sattarian",
      "photoUrl": "//lh4.googleusercontent.com/-g7CXt89YadI/AAAAAAAAAAI/AAAAAAAACN8/B_KMRZkKYjA/s50-c-k-no/photo.jpg",
      "userId": "114996396191740313928"
     },
     "user_tz": -270
    },
    "id": "68FLE2LlqEXk",
    "outputId": "00d2374a-e597-48c8-bd8f-1e8919b40e17"
   },
   "outputs": [
    {
     "name": "stdout",
     "output_type": "stream",
     "text": [
      "_________________________________________________________________\n",
      "Layer (type)                 Output Shape              Param #   \n",
      "=================================================================\n",
      "input_1 (InputLayer)         (None, 108, 192, 3)       0         \n",
      "_________________________________________________________________\n",
      "block1_conv1 (Conv2D)        (None, 108, 192, 64)      1792      \n",
      "_________________________________________________________________\n",
      "block1_conv2 (Conv2D)        (None, 108, 192, 64)      36928     \n",
      "_________________________________________________________________\n",
      "block1_pool (MaxPooling2D)   (None, 54, 96, 64)        0         \n",
      "_________________________________________________________________\n",
      "block2_conv1 (Conv2D)        (None, 54, 96, 128)       73856     \n",
      "_________________________________________________________________\n",
      "block2_conv2 (Conv2D)        (None, 54, 96, 128)       147584    \n",
      "_________________________________________________________________\n",
      "block2_pool (MaxPooling2D)   (None, 27, 48, 128)       0         \n",
      "_________________________________________________________________\n",
      "block3_conv1 (Conv2D)        (None, 27, 48, 256)       295168    \n",
      "_________________________________________________________________\n",
      "block3_conv2 (Conv2D)        (None, 27, 48, 256)       590080    \n",
      "_________________________________________________________________\n",
      "block3_conv3 (Conv2D)        (None, 27, 48, 256)       590080    \n",
      "_________________________________________________________________\n",
      "block3_pool (MaxPooling2D)   (None, 13, 24, 256)       0         \n",
      "_________________________________________________________________\n",
      "block4_conv1 (Conv2D)        (None, 13, 24, 512)       1180160   \n",
      "_________________________________________________________________\n",
      "block4_conv2 (Conv2D)        (None, 13, 24, 512)       2359808   \n",
      "_________________________________________________________________\n",
      "block4_conv3 (Conv2D)        (None, 13, 24, 512)       2359808   \n",
      "_________________________________________________________________\n",
      "block4_pool (MaxPooling2D)   (None, 6, 12, 512)        0         \n",
      "_________________________________________________________________\n",
      "block5_conv1 (Conv2D)        (None, 6, 12, 512)        2359808   \n",
      "_________________________________________________________________\n",
      "block5_conv2 (Conv2D)        (None, 6, 12, 512)        2359808   \n",
      "_________________________________________________________________\n",
      "block5_conv3 (Conv2D)        (None, 6, 12, 512)        2359808   \n",
      "_________________________________________________________________\n",
      "block5_pool (MaxPooling2D)   (None, 3, 6, 512)         0         \n",
      "=================================================================\n",
      "Total params: 14,714,688\n",
      "Trainable params: 2,915,648\n",
      "Non-trainable params: 11,799,040\n",
      "_________________________________________________________________\n",
      "_________________________________________________________________\n",
      "Layer (type)                 Output Shape              Param #   \n",
      "=================================================================\n",
      "vgg16-places365 (Model)      (None, 3, 6, 512)         14714688  \n",
      "_________________________________________________________________\n",
      "flatten_1 (Flatten)          (None, 9216)              0         \n",
      "_________________________________________________________________\n",
      "dense_1 (Dense)              (None, 256)               2359552   \n",
      "_________________________________________________________________\n",
      "dense_2 (Dense)              (None, 6)                 1542      \n",
      "=================================================================\n",
      "Total params: 17,075,782\n",
      "Trainable params: 5,276,742\n",
      "Non-trainable params: 11,799,040\n",
      "_________________________________________________________________\n"
     ]
    }
   ],
   "source": [
    "base_model.summary()\n",
    "model.summary()"
   ]
  },
  {
   "cell_type": "markdown",
   "metadata": {
    "colab_type": "text",
    "id": "N2AVzQ8JqFoZ"
   },
   "source": [
    "##### data agumentation methods are used to achive better result; methods to augument images selected according to real-life situations to simulate real cases."
   ]
  },
  {
   "cell_type": "code",
   "execution_count": 12,
   "metadata": {
    "colab": {
     "autoexec": {
      "startup": false,
      "wait_interval": 0
     },
     "base_uri": "https://localhost:8080/",
     "height": 53
    },
    "colab_type": "code",
    "executionInfo": {
     "elapsed": 2778,
     "status": "ok",
     "timestamp": 1528919020469,
     "user": {
      "displayName": "m.hassan sattarian",
      "photoUrl": "//lh4.googleusercontent.com/-g7CXt89YadI/AAAAAAAAAAI/AAAAAAAACN8/B_KMRZkKYjA/s50-c-k-no/photo.jpg",
      "userId": "114996396191740313928"
     },
     "user_tz": -270
    },
    "id": "ZZYp52SItlT4",
    "outputId": "40230490-5d7a-4d9b-f996-56e8a83a819f"
   },
   "outputs": [
    {
     "name": "stdout",
     "output_type": "stream",
     "text": [
      "Found 2971 images belonging to 6 classes.\n",
      "Found 1796 images belonging to 6 classes.\n"
     ]
    }
   ],
   "source": [
    "from keras.preprocessing.image import ImageDataGenerator\n",
    "\n",
    "train_datagen = ImageDataGenerator(\n",
    "    rescale=1./255,\n",
    "    rotation_range=40,\n",
    "    shear_range=0.2,\n",
    "    zoom_range=0.2,\n",
    "    fill_mode='nearest'\n",
    ")\n",
    "\n",
    "# Note that the validation data should not be augmented!\n",
    "test_datagen = ImageDataGenerator(rescale=1./255)\n",
    "\n",
    "# data generators are used to feed the network from **Train** and **Test** directories.\n",
    "train_dir = 'Train'\n",
    "validation_dir = 'Test'\n",
    "\n",
    "train_generator = train_datagen.flow_from_directory(\n",
    "        # This is the target directory\n",
    "        train_dir,\n",
    "        # All images will be resized to 150x150\n",
    "        target_size=(108, 192),\n",
    "        batch_size=20,\n",
    "        # Since we use binary_crossentropy loss, we need binary labels\n",
    "        class_mode='categorical')\n",
    "\n",
    "validation_generator = test_datagen.flow_from_directory(\n",
    "        validation_dir,\n",
    "        target_size=(108, 192),\n",
    "        batch_size=20,\n",
    "        class_mode='categorical')\n",
    "\n"
   ]
  },
  {
   "cell_type": "markdown",
   "metadata": {
    "colab_type": "text",
    "id": "VEj7ceP9tmXw"
   },
   "source": [
    "##### Compiling the model with *categorical_crossentropy* loss 'cause our problem is categorical using RMSProp optimizer and *accuracy* metrics; then fitting it with created generators within 30 epochs.\n",
    "(this step would take some time!)"
   ]
  },
  {
   "cell_type": "code",
   "execution_count": 13,
   "metadata": {
    "colab": {
     "autoexec": {
      "startup": false,
      "wait_interval": 0
     },
     "base_uri": "https://localhost:8080/",
     "height": 397
    },
    "colab_type": "code",
    "executionInfo": {
     "elapsed": 542464,
     "status": "ok",
     "timestamp": 1528919581131,
     "user": {
      "displayName": "m.hassan sattarian",
      "photoUrl": "//lh4.googleusercontent.com/-g7CXt89YadI/AAAAAAAAAAI/AAAAAAAACN8/B_KMRZkKYjA/s50-c-k-no/photo.jpg",
      "userId": "114996396191740313928"
     },
     "user_tz": -270
    },
    "id": "c9nHUls46XdH",
    "outputId": "53b3dc30-30d3-4144-b53d-f727c9f85605"
   },
   "outputs": [
    {
     "name": "stdout",
     "output_type": "stream",
     "text": [
      "Epoch 1/10\n",
      "149/149 [==============================] - 60s 406ms/step - loss: 0.8934 - acc: 0.7796 - val_loss: 0.6186 - val_acc: 0.8703\n",
      "Epoch 2/10\n",
      "149/149 [==============================] - 53s 357ms/step - loss: 0.3518 - acc: 0.9695 - val_loss: 0.4202 - val_acc: 0.9488\n",
      "Epoch 3/10\n",
      "144/149 [===========================>..] - ETA: 1s - loss: 0.2761 - acc: 0.9903149/149 [==============================] - 53s 357ms/step - loss: 0.2752 - acc: 0.9906 - val_loss: 0.4083 - val_acc: 0.9555\n",
      "Epoch 4/10\n",
      "149/149 [==============================] - 53s 357ms/step - loss: 0.2600 - acc: 0.9903 - val_loss: 0.3628 - val_acc: 0.9699\n",
      "Epoch 5/10\n",
      "149/149 [==============================] - 53s 357ms/step - loss: 0.2486 - acc: 0.9956 - val_loss: 0.3315 - val_acc: 0.9744\n",
      "Epoch 6/10\n",
      " 29/149 [====>.........................] - ETA: 34s - loss: 0.2433 - acc: 1.0000149/149 [==============================] - 53s 357ms/step - loss: 0.2450 - acc: 0.9977 - val_loss: 0.4051 - val_acc: 0.9549\n",
      "Epoch 7/10\n",
      "149/149 [==============================] - 53s 357ms/step - loss: 0.2380 - acc: 0.9987 - val_loss: 0.3459 - val_acc: 0.9744\n",
      "Epoch 8/10\n",
      "149/149 [==============================] - 53s 357ms/step - loss: 0.2385 - acc: 0.9980 - val_loss: 0.3573 - val_acc: 0.9749\n",
      "Epoch 9/10\n",
      " 10/149 [=>............................] - ETA: 40s - loss: 0.2315 - acc: 1.0000149/149 [==============================] - 53s 357ms/step - loss: 0.2387 - acc: 0.9970 - val_loss: 0.3369 - val_acc: 0.9744\n",
      "Epoch 10/10\n",
      "149/149 [==============================] - 53s 356ms/step - loss: 0.2345 - acc: 0.9993 - val_loss: 0.3969 - val_acc: 0.9588\n"
     ]
    }
   ],
   "source": [
    "model.compile(loss='categorical_crossentropy',\n",
    "            optimizer=optimizers.RMSprop(lr=2e-5),\n",
    "            metrics=['acc'])\n",
    "\n",
    "history = model.fit_generator(\n",
    "    train_generator,\n",
    "    steps_per_epoch=149,\n",
    "    epochs=10,\n",
    "    validation_data=validation_generator,\n",
    "    validation_steps=90)"
   ]
  },
  {
   "cell_type": "markdown",
   "metadata": {},
   "source": [
    "##### showing visualizations of model\n",
    "    *Training and validation accuracy*\n",
    "                   and\n",
    "    *Training and validation loss*\n",
    "                  plots"
   ]
  },
  {
   "cell_type": "code",
   "execution_count": 14,
   "metadata": {
    "colab": {
     "autoexec": {
      "startup": false,
      "wait_interval": 0
     },
     "base_uri": "https://localhost:8080/",
     "height": 707
    },
    "colab_type": "code",
    "executionInfo": {
     "elapsed": 3928,
     "status": "ok",
     "timestamp": 1528919725001,
     "user": {
      "displayName": "m.hassan sattarian",
      "photoUrl": "//lh4.googleusercontent.com/-g7CXt89YadI/AAAAAAAAAAI/AAAAAAAACN8/B_KMRZkKYjA/s50-c-k-no/photo.jpg",
      "userId": "114996396191740313928"
     },
     "user_tz": -270
    },
    "id": "gL7pKzMf4wWe",
    "outputId": "c5788a61-4596-4e24-9249-6a59e392198b"
   },
   "outputs": [
    {
     "data": {
      "image/png": "[encoded data removed]",
      "text/plain": [
       "<matplotlib.figure.Figure at 0x7f13aeff4780>"
      ]
     },
     "metadata": {
      "tags": []
     },
     "output_type": "display_data"
    },
    {
     "data": {
      "image/png": "[encoded data removed]",
      "text/plain": [
       "<matplotlib.figure.Figure at 0x7f13b0056710>"
      ]
     },
     "metadata": {
      "tags": []
     },
     "output_type": "display_data"
    }
   ],
   "source": [
    "import matplotlib.pyplot as plt\n",
    "\n",
    "acc = history.history['acc']\n",
    "val_acc = history.history['val_acc']\n",
    "loss = history.history['loss']\n",
    "val_loss = history.history['val_loss']\n",
    "\n",
    "epochs = range(len(acc))\n",
    "\n",
    "plt.plot(epochs, acc, 'bo', label='Training acc')\n",
    "plt.plot(epochs, val_acc, 'b', label='Validation acc')\n",
    "plt.title('Training and validation accuracy')\n",
    "plt.legend()\n",
    "\n",
    "plt.figure()\n",
    "\n",
    "plt.plot(epochs, loss, 'bo', label='Training loss')\n",
    "plt.plot(epochs, val_loss, 'b', label='Validation loss')\n",
    "plt.title('Training and validation loss')\n",
    "plt.legend()\n",
    "\n",
    "plt.show()"
   ]
  },
  {
   "cell_type": "markdown",
   "metadata": {
    "colab_type": "text",
    "id": "g1FOREzmuelJ"
   },
   "source": [
    "##### finally for testing, an unseen image is down/loaded and used for prediction:"
   ]
  },
  {
   "cell_type": "code",
   "execution_count": 30,
   "metadata": {
    "colab": {
     "autoexec": {
      "startup": false,
      "wait_interval": 0
     },
     "base_uri": "https://localhost:8080/",
     "height": 320
    },
    "colab_type": "code",
    "executionInfo": {
     "elapsed": 2339,
     "status": "ok",
     "timestamp": 1528920193788,
     "user": {
      "displayName": "m.hassan sattarian",
      "photoUrl": "//lh4.googleusercontent.com/-g7CXt89YadI/AAAAAAAAAAI/AAAAAAAACN8/B_KMRZkKYjA/s50-c-k-no/photo.jpg",
      "userId": "114996396191740313928"
     },
     "user_tz": -270
    },
    "id": "idfDhZ12bDOs",
    "outputId": "efa44582-e440-4d1f-8987-fe4c7544f4a1"
   },
   "outputs": [
    {
     "name": "stdout",
     "output_type": "stream",
     "text": [
      "[[0. 0. 1. 0. 0. 0.]]\n"
     ]
    },
    {
     "data": {
      "image/png": "[encoded data removed]",
      "text/plain": [
       "<matplotlib.figure.Figure at 0x7f13b00d5438>"
      ]
     },
     "metadata": {
      "tags": []
     },
     "output_type": "display_data"
    }
   ],
   "source": [
    "from keras.preprocessing import image\n",
    "import numpy as np\n",
    "from keras.applications.imagenet_utils import _obtain_input_shape\n",
    "from places_utils import preprocess_input # places_utiles file is provided by VGG16:places contributors.\n",
    "\n",
    "# labels ordered corresponding to recognized classes by model.\n",
    "# extracted from --> label_map = (train_generator.class_indices)\n",
    "labels = ['Architect Campus', 'Buffet', 'Computer Campus', 'Culture house', 'Field', 'Self']\n",
    "\n",
    "# downloafing unseen image\n",
    "!wget https://image.ibb.co/e0iWXy/CC_807.jpg # image in 'Computer Campus' category\n",
    "\n",
    "# predicting\n",
    "img_path = 'CC_807.jpg'\n",
    "img = image.load_img(img_path, target_size=(108, 192))\n",
    "plt.imshow(img) # showing image in cell's output (if not showing add '%matplotlib inline')\n",
    "x = image.img_to_array(img)\n",
    "x = np.expand_dims(x, axis=0)\n",
    "x = preprocess_input(x)\n",
    "\n",
    "# printing prediction \n",
    "prediction = model.predict(x)\n",
    "# y_classes = y_prob.argmax()     # -->  uncomment for printing it's most probable Class Number\n",
    "# y_true_labels = train_generator.classes    # --> uncomment for printing each train image Class Number\n",
    "print (prediction)\n",
    "\n",
    "# Printing each class probability\n",
    "for i, p in enumerate(prediction[0]):\n",
    "  print('%s Probability: %f' % (labels[i], p))"
   ]
  },
  {
   "cell_type": "markdown",
   "metadata": {},
   "source": [
    "## Save and Backup"
   ]
  },
  {
   "cell_type": "markdown",
   "metadata": {},
   "source": [
    "##### Saving model for further use:"
   ]
  },
  {
   "cell_type": "code",
   "execution_count": 0,
   "metadata": {
    "colab": {
     "autoexec": {
      "startup": false,
      "wait_interval": 0
     }
    },
    "colab_type": "code",
    "id": "lATTgJLsAFJ1"
   },
   "outputs": [],
   "source": [
    "model.save('model.h5')"
   ]
  },
  {
   "cell_type": "markdown",
   "metadata": {},
   "source": [
    "##### transferring saved model to google drive:"
   ]
  },
  {
   "cell_type": "code",
   "execution_count": 36,
   "metadata": {
    "colab": {
     "autoexec": {
      "startup": false,
      "wait_interval": 0
     },
     "base_uri": "https://localhost:8080/",
     "height": 35
    },
    "colab_type": "code",
    "executionInfo": {
     "elapsed": 4120,
     "status": "ok",
     "timestamp": 1528920579931,
     "user": {
      "displayName": "m.hassan sattarian",
      "photoUrl": "//lh4.googleusercontent.com/-g7CXt89YadI/AAAAAAAAAAI/AAAAAAAACN8/B_KMRZkKYjA/s50-c-k-no/photo.jpg",
      "userId": "114996396191740313928"
     },
     "user_tz": -270
    },
    "id": "AEoOYA5QghKP",
    "outputId": "a6a9129e-6f1c-44e3-bf23-755ec69f1eb2"
   },
   "outputs": [
    {
     "name": "stdout",
     "output_type": "stream",
     "text": [
      "File ID: 1ex24S7_CPRKO6eRHey_jDe8rOSiRB0I0\n"
     ]
    }
   ],
   "source": [
    "from googleapiclient.http import MediaFileUpload\n",
    "from googleapiclient.discovery import build\n",
    "drive_service = build('drive', 'v3')\n",
    "\n",
    "file_metadata = {\n",
    "  'name': 'SRU_Places_6.h5', # name of the saved file\n",
    "  'mimeType': 'text/plain'   # type of the saved file\n",
    "}\n",
    "media = MediaFileUpload('model.h5', # name of existing file\n",
    "                        mimetype='text/plain',\n",
    "                        resumable=True)\n",
    "created = drive_service.files().create(body=file_metadata,\n",
    "                                       media_body=media,\n",
    "                                       fields='id').execute()\n",
    "print('File ID: {}'.format(created.get('id'))) # after successful transfer FileId would be printed"
   ]
  },
  {
   "cell_type": "code",
   "execution_count": 0,
   "metadata": {
    "colab": {
     "autoexec": {
      "startup": false,
      "wait_interval": 0
     }
    },
    "colab_type": "code",
    "id": "vNBFaDjSodSY"
   },
   "outputs": [],
   "source": []
  }
 ],
 "metadata": {
  "accelerator": "GPU",
  "colab": {
   "collapsed_sections": [],
   "default_view": {},
   "name": "4.ipynb",
   "provenance": [],
   "version": "0.3.2",
   "views": {}
  },
  "kernelspec": {
   "display_name": "Python 3",
   "language": "python",
   "name": "python3"
  },
  "language_info": {
   "codemirror_mode": {
    "name": "ipython",
    "version": 3
   },
   "file_extension": ".py",
   "mimetype": "text/x-python",
   "name": "python",
   "nbconvert_exporter": "python",
   "pygments_lexer": "ipython3",
   "version": "3.6.4"
  }
 },
 "nbformat": 4,
 "nbformat_minor": 1
}
